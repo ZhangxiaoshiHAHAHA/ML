{
 "cells": [
  {
   "cell_type": "markdown",
   "metadata": {},
   "source": [
    "## CS559: Homework #1"
   ]
  },
  {
   "cell_type": "markdown",
   "metadata": {},
   "source": [
    "Assignment #1: due on **2/23/2021 by 11:59 PM**. \n",
    "- Change the file name as *YourName*_S21_CS559_HW1\n",
    "- Submit the assignment both in format of *ipynb* and *html*. \n",
    "    - You can export the file as *html* as `File`>`Download as`>`HTML`. The assignment should be own work and must not be shared between classmates. \n",
    "- You **do not need to compress** the files. You can submit individual files.\n",
    "- This assignment focuses on two topics - linear algebra and data pre-processing. \n",
    "    - For linear algebra questions, when the question says \"implement\", you cannot use any built-in functions.\n",
    "- This assignment should an individual work. Do not collaborate with classmates or get help from 3rd person. You may surf internet if you need to. Then site the reference. "
   ]
  },
  {
   "cell_type": "markdown",
   "metadata": {},
   "source": [
    "### Problem 1 [10 pts]\n",
    "- Implement a function `dot_product` to calculate the dot product of two 1 by n arrays. [6 pts] \n",
    "```\n",
    "a = array([1, 2, 3, 4])\n",
    "b = array([2, 3, 4, 5])\n",
    "dot_product(a,b) = 40\n",
    "```"
   ]
  },
  {
   "cell_type": "code",
   "execution_count": 108,
   "metadata": {},
   "outputs": [],
   "source": [
    "import numpy as np\n",
    "def dot_product(a,b):\n",
    "    if(len(a)==len(b)):\n",
    "        return sum(a*(b.T))   \n",
    "    else:\n",
    "        print(\"input error\")   "
   ]
  },
  {
   "cell_type": "markdown",
   "metadata": {},
   "source": [
    "- Test your code after generating two random 1 by 10 arrays. [4 pts]"
   ]
  },
  {
   "cell_type": "code",
   "execution_count": 109,
   "metadata": {},
   "outputs": [
    {
     "name": "stdout",
     "output_type": "stream",
     "text": [
      "[0.49121096 0.7570717  0.19571106 0.31846293 0.25993825 0.74339835\n",
      " 0.24748727 0.94842459 0.28799017 0.81645951]\n",
      "[0.63067767 0.00546353 0.71982869 0.17310294 0.78398698 0.31052494\n",
      " 0.73129229 0.74234243 0.65810214 0.97930055]\n",
      "2.8186968559780343\n",
      "2.8186968559780343\n"
     ]
    }
   ],
   "source": [
    "import numpy as np\n",
    "a = np.random.rand((10))\n",
    "b = np.random.rand((10))\n",
    "print (a)\n",
    "print (b)\n",
    "print(dot_product(a,b))\n",
    "print(a.dot(b.T))"
   ]
  },
  {
   "cell_type": "markdown",
   "metadata": {},
   "source": [
    "### Problem 2 [10 pts]\n",
    "- Consider three vectors ${\\bf x}_1=(1,3), {\\bf x}_2=(-1,5)$, and ${\\bf x}_3=(0,7)$. Find the distance of each point from the **origin**. [4 pts]"
   ]
  },
  {
   "cell_type": "code",
   "execution_count": 585,
   "metadata": {},
   "outputs": [
    {
     "name": "stdout",
     "output_type": "stream",
     "text": [
      "dist1 = 3.1622776601683795\n",
      "dist2 = 5.0990195135927845\n",
      "dist3 = 7.0\n"
     ]
    }
   ],
   "source": [
    "x0 = np.array([0, 0])\n",
    "x1 = np.array([1, 3])\n",
    "dist1 = np.sqrt(np.sum(np.square(x1 - x0)))\n",
    "print(\"dist1 =\",dist1)\n",
    "x2 = np.array([-1, 5])\n",
    "print(\"dist2 =\",np.linalg.norm(x2 - x0))\n",
    "x3 = np.array([0,7])\n",
    "print(\"dist3 =\",np.linalg.norm(x3))"
   ]
  },
  {
   "cell_type": "markdown",
   "metadata": {},
   "source": [
    "- Rotate the coordinates by 35 degress in counter clockwise. [4 pts]"
   ]
  },
  {
   "cell_type": "code",
   "execution_count": 586,
   "metadata": {},
   "outputs": [
    {
     "name": "stdout",
     "output_type": "stream",
     "text": [
      "x1 = (2.53988135334213, 1.8838796965159292)\n",
      "x2 = (2.0487301374662383, 4.669336657796005)\n",
      "x3 = (4.015035054457322, 5.7340643100229425)\n",
      "x4 = (7.0, 4.286263797015736e-16)\n",
      "c = 6.123233995736766e-17\n"
     ]
    }
   ],
   "source": [
    "import math\n",
    "\n",
    "def rotate_counter(m,x,y):\n",
    "    a = x*math.cos(math.radians(m))+y*math.sin(math.radians(m))\n",
    "    b = y*math.cos(math.radians(m))-x*math.sin(math.radians(m))\n",
    "    return (a,b)\n",
    "\n",
    "print (\"x1 =\",rotate_counter(35,1,3))\n",
    "print (\"x2 =\",rotate_counter(35,-1,5))\n",
    "print (\"x3 =\",rotate_counter(35,0,7))\n",
    "\n",
    "# when I test the function with 90 degress, the value of x4 is not (7,0).\n",
    "# so I test math.cos(math.radians(90)), the value is almost 0.\n",
    "# Do I need to format the result or just keep it?\n",
    "print (\"x4 =\",rotate_counter(90,0,7))\n",
    "c = math.cos(math.radians(90))\n",
    "print(\"c =\",c)"
   ]
  },
  {
   "cell_type": "markdown",
   "metadata": {},
   "source": [
    "- Magnify the area by 4 times. [2 pts]"
   ]
  },
  {
   "cell_type": "code",
   "execution_count": 590,
   "metadata": {},
   "outputs": [
    {
     "name": "stdout",
     "output_type": "stream",
     "text": [
      "[2. 6.]\n",
      "[-2. 10.]\n",
      "[ 0. 14.]\n"
     ]
    }
   ],
   "source": [
    "t = math.sqrt(4)\n",
    "print(t*x1)\n",
    "print(t*x2)\n",
    "print(t*x3)"
   ]
  },
  {
   "cell_type": "markdown",
   "metadata": {},
   "source": [
    "### Problem 3 [20 pts]\n",
    "- Implement a function `mat_product` to calculate the matrix product of two n by n arrays. [8 pts] For example:\n",
    "\n",
    "\n",
    "$A = \\begin{bmatrix} 1 & 3 & 0 \\\\ 2 & 0 & 2 \\\\ 1 & 1 & 4 \\end{bmatrix}$ and $A\\cdot A=\\begin{bmatrix} 7 & 3 & 6 \\\\ 4 & 8 & 8 \\\\ 7 & 8 & 18 \\end{bmatrix}$\n",
    "\n",
    "    mat_product(A,A)=?"
   ]
  },
  {
   "cell_type": "code",
   "execution_count": 568,
   "metadata": {},
   "outputs": [],
   "source": [
    "import numpy as np\n",
    "def mat_product(x,y):\n",
    "        row_x = len(x)\n",
    "        column_x =  len(x[0])\n",
    "        column_y = len(y[0])\n",
    "        row_y = len(y)\n",
    "        \n",
    "        if(row_x == row_y and row_x == column_y and row_y == column_y):\n",
    "            res_mat = [[0] * row_x for i in range(column_y)]\n",
    "            for i in range(row_x):\n",
    "                for j in range(column_y):\n",
    "                    for k in range(row_y):\n",
    "                        temp = x[i][k] * y[k][j]\n",
    "                        res_mat[i][j] += temp\n",
    "            return res_mat\n",
    "        else:\n",
    "            print(\"input error\") "
   ]
  },
  {
   "cell_type": "markdown",
   "metadata": {},
   "source": [
    "- Test your code after generating two random 4 by 4 matrices, ${\\bf X}$ and ${\\bf Y}$. [4 pts]"
   ]
  },
  {
   "cell_type": "code",
   "execution_count": 576,
   "metadata": {},
   "outputs": [
    {
     "name": "stdout",
     "output_type": "stream",
     "text": [
      "x = [[0.80961534 0.59135705 0.70064259 0.0408807 ]\n",
      " [0.29181297 0.29914583 0.48542846 0.0617986 ]\n",
      " [0.08895299 0.30485426 0.49660299 0.00510565]\n",
      " [0.37028658 0.45465684 0.32017492 0.50306805]]\n",
      "y = [[0.84728074 0.20061055 0.88192294 0.58575229]\n",
      " [0.3670103  0.18594097 0.68268043 0.1951623 ]\n",
      " [0.65151432 0.2203125  0.43137457 0.64244886]\n",
      " [0.15494848 0.15903491 0.26249367 0.7338311 ]]\n",
      "res_mat = [[1.3658186983377216, 0.43323665966525143, 1.4306965419366342, 1.069771201400176], [0.6828763040684764, 0.23093831761532024, 0.6872007875126114, 0.5865247941765042], [0.5115878754491381, 0.18474962650008403, 0.5021298143482162, 0.43438917618292233], [0.767148612762735, 0.3093666489751587, 0.9071170541821301, 0.8804910819058762]]\n",
      "x.dot(y) = [[1.3658187  0.43323666 1.43069654 1.0697712 ]\n",
      " [0.6828763  0.23093832 0.68720079 0.58652479]\n",
      " [0.51158788 0.18474963 0.50212981 0.43438918]\n",
      " [0.76714861 0.30936665 0.90711705 0.88049108]]\n"
     ]
    }
   ],
   "source": [
    "x = np.random.rand(4,4)\n",
    "y = np.random.rand(4,4)\n",
    "print(\"x =\", x)\n",
    "print(\"y =\", y)\n",
    "print(\"res_mat =\", mat_product(x,y))\n",
    "print(\"x.dot(y) =\", x.dot(y))"
   ]
  },
  {
   "cell_type": "markdown",
   "metadata": {},
   "source": [
    "- Inplement a function `mat_transpose` that transposes ${\\bf X}$ and use the `mat_product` function to find the matrice of product: $Z={\\bf X}^T\\cdot{\\bf Y}$ [8 pts]\n",
    "\n",
    "        Z=mat_product(mat_transpose(X),Y)"
   ]
  },
  {
   "cell_type": "code",
   "execution_count": 581,
   "metadata": {},
   "outputs": [
    {
     "name": "stdout",
     "output_type": "stream",
     "text": [
      "X_transpose = [[1, 4, 7], [2, 5, 8], [3, 6, 9]]\n",
      "Z = [[12, 12, 12], [15, 15, 15], [18, 18, 18]]\n",
      "[[12 12 12]\n",
      " [15 15 15]\n",
      " [18 18 18]]\n"
     ]
    }
   ],
   "source": [
    "def mat_transpose(a):\n",
    "    t = [[] for i in a[0]] \n",
    "    for ele in a:\n",
    "        for i in range(len(ele)):\n",
    "            t[i].append(ele[i])\n",
    "    return t\n",
    "\n",
    "X = [[1,2,3],[4,5,6],[7,8,9]]\n",
    "Y = [[1,1,1],[1,1,1],[1,1,1]]\n",
    "print(\"X_transpose =\", mat_transpose(X))\n",
    "Z = mat_product(mat_transpose(X),Y)\n",
    "print(\"Z =\", Z)\n",
    "print((np.transpose(X)).dot(Y))"
   ]
  },
  {
   "cell_type": "markdown",
   "metadata": {},
   "source": [
    "### Problem 4 [30 pts]\n",
    "- In this question, we will use the csv file **Temp.csv**. This question task is a process of exploratory data ansysis (EDA) to learn about data itself. Read it into a data frame, call it `Temp`. (Import the packages you think you need). [4 pts]"
   ]
  },
  {
   "cell_type": "code",
   "execution_count": 498,
   "metadata": {},
   "outputs": [],
   "source": [
    "import pandas as pd\n",
    "import numpy as np\n",
    "Temp = pd.DataFrame()\n",
    "Temp = pd.read_csv('Temp.csv')"
   ]
  },
  {
   "cell_type": "markdown",
   "metadata": {},
   "source": [
    "- We learned that the temperature at New Haven, Connecticut is currently 58 degree fahrenheit. Add this information into the DataFrame.[4 pts]"
   ]
  },
  {
   "cell_type": "code",
   "execution_count": 499,
   "metadata": {},
   "outputs": [
    {
     "name": "stdout",
     "output_type": "stream",
     "text": [
      "(7, 3)\n",
      "['City', 'State', 'Temperature']\n",
      "(8, 3)\n"
     ]
    },
    {
     "data": {
      "text/html": [
       "<div>\n",
       "<style scoped>\n",
       "    .dataframe tbody tr th:only-of-type {\n",
       "        vertical-align: middle;\n",
       "    }\n",
       "\n",
       "    .dataframe tbody tr th {\n",
       "        vertical-align: top;\n",
       "    }\n",
       "\n",
       "    .dataframe thead th {\n",
       "        text-align: right;\n",
       "    }\n",
       "</style>\n",
       "<table border=\"1\" class=\"dataframe\">\n",
       "  <thead>\n",
       "    <tr style=\"text-align: right;\">\n",
       "      <th></th>\n",
       "      <th>City</th>\n",
       "      <th>State</th>\n",
       "      <th>Temperature</th>\n",
       "    </tr>\n",
       "  </thead>\n",
       "  <tbody>\n",
       "    <tr>\n",
       "      <th>0</th>\n",
       "      <td>NYC</td>\n",
       "      <td>New York</td>\n",
       "      <td>67</td>\n",
       "    </tr>\n",
       "    <tr>\n",
       "      <th>1</th>\n",
       "      <td>Albany</td>\n",
       "      <td>New York</td>\n",
       "      <td>49</td>\n",
       "    </tr>\n",
       "    <tr>\n",
       "      <th>2</th>\n",
       "      <td>Buffalo</td>\n",
       "      <td>New York</td>\n",
       "      <td>38</td>\n",
       "    </tr>\n",
       "    <tr>\n",
       "      <th>3</th>\n",
       "      <td>Hartford</td>\n",
       "      <td>Connecticut</td>\n",
       "      <td>63</td>\n",
       "    </tr>\n",
       "    <tr>\n",
       "      <th>4</th>\n",
       "      <td>Bridgeport</td>\n",
       "      <td>Connecticut</td>\n",
       "      <td>58</td>\n",
       "    </tr>\n",
       "    <tr>\n",
       "      <th>5</th>\n",
       "      <td>Treton</td>\n",
       "      <td>New Jersey</td>\n",
       "      <td>72</td>\n",
       "    </tr>\n",
       "    <tr>\n",
       "      <th>6</th>\n",
       "      <td>Newark</td>\n",
       "      <td>New Jersey</td>\n",
       "      <td>68</td>\n",
       "    </tr>\n",
       "    <tr>\n",
       "      <th>8</th>\n",
       "      <td>New Heaven</td>\n",
       "      <td>Connecticut</td>\n",
       "      <td>58</td>\n",
       "    </tr>\n",
       "  </tbody>\n",
       "</table>\n",
       "</div>"
      ],
      "text/plain": [
       "         City        State Temperature\n",
       "0         NYC     New York          67\n",
       "1      Albany     New York          49\n",
       "2     Buffalo     New York          38\n",
       "3    Hartford  Connecticut          63\n",
       "4  Bridgeport  Connecticut          58\n",
       "5      Treton   New Jersey          72\n",
       "6      Newark   New Jersey          68\n",
       "8  New Heaven  Connecticut          58"
      ]
     },
     "execution_count": 499,
     "metadata": {},
     "output_type": "execute_result"
    }
   ],
   "source": [
    "print(Temp.shape) ##get row index = 7\n",
    "print(list(Temp.columns))\n",
    "Temp.loc[8] = ['New Heaven','Connecticut','58']\n",
    "print(Temp.shape)\n",
    "Temp"
   ]
  },
  {
   "cell_type": "markdown",
   "metadata": {},
   "source": [
    "- Replace the names of the states by their abbreviations. [4 pts] That is \n",
    "    - Connecticut --> CT\n",
    "    - New Jersey  --> NJ\n",
    "    - New York    --> NY"
   ]
  },
  {
   "cell_type": "code",
   "execution_count": 500,
   "metadata": {},
   "outputs": [
    {
     "data": {
      "text/html": [
       "<div>\n",
       "<style scoped>\n",
       "    .dataframe tbody tr th:only-of-type {\n",
       "        vertical-align: middle;\n",
       "    }\n",
       "\n",
       "    .dataframe tbody tr th {\n",
       "        vertical-align: top;\n",
       "    }\n",
       "\n",
       "    .dataframe thead th {\n",
       "        text-align: right;\n",
       "    }\n",
       "</style>\n",
       "<table border=\"1\" class=\"dataframe\">\n",
       "  <thead>\n",
       "    <tr style=\"text-align: right;\">\n",
       "      <th></th>\n",
       "      <th>City</th>\n",
       "      <th>State</th>\n",
       "      <th>Temperature</th>\n",
       "    </tr>\n",
       "  </thead>\n",
       "  <tbody>\n",
       "    <tr>\n",
       "      <th>0</th>\n",
       "      <td>NYC</td>\n",
       "      <td>NY</td>\n",
       "      <td>67</td>\n",
       "    </tr>\n",
       "    <tr>\n",
       "      <th>1</th>\n",
       "      <td>Albany</td>\n",
       "      <td>NY</td>\n",
       "      <td>49</td>\n",
       "    </tr>\n",
       "    <tr>\n",
       "      <th>2</th>\n",
       "      <td>Buffalo</td>\n",
       "      <td>NY</td>\n",
       "      <td>38</td>\n",
       "    </tr>\n",
       "    <tr>\n",
       "      <th>3</th>\n",
       "      <td>Hartford</td>\n",
       "      <td>CT</td>\n",
       "      <td>63</td>\n",
       "    </tr>\n",
       "    <tr>\n",
       "      <th>4</th>\n",
       "      <td>Bridgeport</td>\n",
       "      <td>CT</td>\n",
       "      <td>58</td>\n",
       "    </tr>\n",
       "    <tr>\n",
       "      <th>5</th>\n",
       "      <td>Treton</td>\n",
       "      <td>NJ</td>\n",
       "      <td>72</td>\n",
       "    </tr>\n",
       "    <tr>\n",
       "      <th>6</th>\n",
       "      <td>Newark</td>\n",
       "      <td>NJ</td>\n",
       "      <td>68</td>\n",
       "    </tr>\n",
       "    <tr>\n",
       "      <th>8</th>\n",
       "      <td>New Heaven</td>\n",
       "      <td>CT</td>\n",
       "      <td>58</td>\n",
       "    </tr>\n",
       "  </tbody>\n",
       "</table>\n",
       "</div>"
      ],
      "text/plain": [
       "         City State Temperature\n",
       "0         NYC    NY          67\n",
       "1      Albany    NY          49\n",
       "2     Buffalo    NY          38\n",
       "3    Hartford    CT          63\n",
       "4  Bridgeport    CT          58\n",
       "5      Treton    NJ          72\n",
       "6      Newark    NJ          68\n",
       "8  New Heaven    CT          58"
      ]
     },
     "execution_count": 500,
     "metadata": {},
     "output_type": "execute_result"
    }
   ],
   "source": [
    "Temp = Temp.replace(['Connecticut','New Jersey','New York'],['CT','NJ','NY'])\n",
    "Temp"
   ]
  },
  {
   "cell_type": "markdown",
   "metadata": {},
   "source": [
    "- Select the rows in New York. [2 pts]"
   ]
  },
  {
   "cell_type": "code",
   "execution_count": 501,
   "metadata": {},
   "outputs": [
    {
     "name": "stdout",
     "output_type": "stream",
     "text": [
      "      City State Temperature\n",
      "0      NYC    NY          67\n",
      "1   Albany    NY          49\n",
      "2  Buffalo    NY          38\n"
     ]
    }
   ],
   "source": [
    "NY = Temp[Temp['State'].str.contains('NY')]\n",
    "print(NY)"
   ]
  },
  {
   "cell_type": "markdown",
   "metadata": {},
   "source": [
    "- What is the average of the temperature of cities in NY? [4 pts]"
   ]
  },
  {
   "cell_type": "code",
   "execution_count": 502,
   "metadata": {},
   "outputs": [
    {
     "name": "stdout",
     "output_type": "stream",
     "text": [
      "average of the temperature in NY is 51.333333333333336\n"
     ]
    }
   ],
   "source": [
    "average=NY[\"Temperature\"].mean()\n",
    "print(\"average of the temperature in NY is\", average)"
   ]
  },
  {
   "cell_type": "markdown",
   "metadata": {},
   "source": [
    "- Find the mean and the standard deviation of the temperature of each state. [4 pts]"
   ]
  },
  {
   "cell_type": "code",
   "execution_count": 503,
   "metadata": {},
   "outputs": [
    {
     "data": {
      "text/html": [
       "<div>\n",
       "<style scoped>\n",
       "    .dataframe tbody tr th:only-of-type {\n",
       "        vertical-align: middle;\n",
       "    }\n",
       "\n",
       "    .dataframe tbody tr th {\n",
       "        vertical-align: top;\n",
       "    }\n",
       "\n",
       "    .dataframe thead tr th {\n",
       "        text-align: left;\n",
       "    }\n",
       "\n",
       "    .dataframe thead tr:last-of-type th {\n",
       "        text-align: right;\n",
       "    }\n",
       "</style>\n",
       "<table border=\"1\" class=\"dataframe\">\n",
       "  <thead>\n",
       "    <tr>\n",
       "      <th></th>\n",
       "      <th colspan=\"2\" halign=\"left\">Temperature</th>\n",
       "    </tr>\n",
       "    <tr>\n",
       "      <th></th>\n",
       "      <th>mean</th>\n",
       "      <th>std</th>\n",
       "    </tr>\n",
       "    <tr>\n",
       "      <th>State</th>\n",
       "      <th></th>\n",
       "      <th></th>\n",
       "    </tr>\n",
       "  </thead>\n",
       "  <tbody>\n",
       "    <tr>\n",
       "      <th>CT</th>\n",
       "      <td>59.666667</td>\n",
       "      <td>2.886751</td>\n",
       "    </tr>\n",
       "    <tr>\n",
       "      <th>NJ</th>\n",
       "      <td>70.000000</td>\n",
       "      <td>2.828427</td>\n",
       "    </tr>\n",
       "    <tr>\n",
       "      <th>NY</th>\n",
       "      <td>51.333333</td>\n",
       "      <td>14.640128</td>\n",
       "    </tr>\n",
       "  </tbody>\n",
       "</table>\n",
       "</div>"
      ],
      "text/plain": [
       "      Temperature           \n",
       "             mean        std\n",
       "State                       \n",
       "CT      59.666667   2.886751\n",
       "NJ      70.000000   2.828427\n",
       "NY      51.333333  14.640128"
      ]
     },
     "execution_count": 503,
     "metadata": {},
     "output_type": "execute_result"
    }
   ],
   "source": [
    "#Temp.info()\n",
    "Temp['Temperature'] = Temp['Temperature'].apply(pd.to_numeric)\n",
    "Temp.groupby('State').agg([np.mean, np.std])"
   ]
  },
  {
   "cell_type": "markdown",
   "metadata": {},
   "source": [
    "- Create a data frame `Capital`, with two columns: State and Capital. [4 pts] \n",
    "\n",
    "    We know the capital of each state: \n",
    "    - Connecticut --> Hartford\n",
    "    - New Jersey  --> Treton\n",
    "    - New York    --> Albany\n",
    "    \n",
    "|| State| Capital|\n",
    "| :-: |:---: | :---:|\n",
    "| 0| CT  | Hartford|\n",
    "| 1| NJ | Treton|\n",
    "| 2| NY| Albany|"
   ]
  },
  {
   "cell_type": "code",
   "execution_count": 504,
   "metadata": {},
   "outputs": [
    {
     "data": {
      "text/html": [
       "<div>\n",
       "<style scoped>\n",
       "    .dataframe tbody tr th:only-of-type {\n",
       "        vertical-align: middle;\n",
       "    }\n",
       "\n",
       "    .dataframe tbody tr th {\n",
       "        vertical-align: top;\n",
       "    }\n",
       "\n",
       "    .dataframe thead th {\n",
       "        text-align: right;\n",
       "    }\n",
       "</style>\n",
       "<table border=\"1\" class=\"dataframe\">\n",
       "  <thead>\n",
       "    <tr style=\"text-align: right;\">\n",
       "      <th></th>\n",
       "      <th>State</th>\n",
       "      <th>Capital</th>\n",
       "    </tr>\n",
       "  </thead>\n",
       "  <tbody>\n",
       "    <tr>\n",
       "      <th>0</th>\n",
       "      <td>CT</td>\n",
       "      <td>Hartford</td>\n",
       "    </tr>\n",
       "    <tr>\n",
       "      <th>1</th>\n",
       "      <td>NJ</td>\n",
       "      <td>Treton</td>\n",
       "    </tr>\n",
       "    <tr>\n",
       "      <th>2</th>\n",
       "      <td>NY</td>\n",
       "      <td>Albany</td>\n",
       "    </tr>\n",
       "  </tbody>\n",
       "</table>\n",
       "</div>"
      ],
      "text/plain": [
       "  State   Capital\n",
       "0    CT  Hartford\n",
       "1    NJ    Treton\n",
       "2    NY    Albany"
      ]
     },
     "execution_count": 504,
     "metadata": {},
     "output_type": "execute_result"
    }
   ],
   "source": [
    "Capital = pd.DataFrame([['CT','Hartford'],['NJ','Treton'],['NY','Albany'],], columns=['State','Capital'])\n",
    "Capital\n",
    "#Capital.replace(['CT','NJ'],['TC','JN'])"
   ]
  },
  {
   "cell_type": "markdown",
   "metadata": {},
   "source": [
    "- Mutate a new boolean column, `Capital`, to `Temp`, which is `True` if the city in the row is the capital of the state, else `False`. [4 pts]"
   ]
  },
  {
   "cell_type": "code",
   "execution_count": 526,
   "metadata": {},
   "outputs": [
    {
     "data": {
      "text/html": [
       "<div>\n",
       "<style scoped>\n",
       "    .dataframe tbody tr th:only-of-type {\n",
       "        vertical-align: middle;\n",
       "    }\n",
       "\n",
       "    .dataframe tbody tr th {\n",
       "        vertical-align: top;\n",
       "    }\n",
       "\n",
       "    .dataframe thead th {\n",
       "        text-align: right;\n",
       "    }\n",
       "</style>\n",
       "<table border=\"1\" class=\"dataframe\">\n",
       "  <thead>\n",
       "    <tr style=\"text-align: right;\">\n",
       "      <th></th>\n",
       "      <th>City</th>\n",
       "      <th>State</th>\n",
       "      <th>Temperature</th>\n",
       "      <th>Capital</th>\n",
       "    </tr>\n",
       "  </thead>\n",
       "  <tbody>\n",
       "    <tr>\n",
       "      <th>0</th>\n",
       "      <td>NYC</td>\n",
       "      <td>NY</td>\n",
       "      <td>67</td>\n",
       "      <td>False</td>\n",
       "    </tr>\n",
       "    <tr>\n",
       "      <th>1</th>\n",
       "      <td>Albany</td>\n",
       "      <td>NY</td>\n",
       "      <td>49</td>\n",
       "      <td>True</td>\n",
       "    </tr>\n",
       "    <tr>\n",
       "      <th>2</th>\n",
       "      <td>Buffalo</td>\n",
       "      <td>NY</td>\n",
       "      <td>38</td>\n",
       "      <td>False</td>\n",
       "    </tr>\n",
       "    <tr>\n",
       "      <th>3</th>\n",
       "      <td>Hartford</td>\n",
       "      <td>CT</td>\n",
       "      <td>63</td>\n",
       "      <td>True</td>\n",
       "    </tr>\n",
       "    <tr>\n",
       "      <th>4</th>\n",
       "      <td>Bridgeport</td>\n",
       "      <td>CT</td>\n",
       "      <td>58</td>\n",
       "      <td>False</td>\n",
       "    </tr>\n",
       "    <tr>\n",
       "      <th>5</th>\n",
       "      <td>Treton</td>\n",
       "      <td>NJ</td>\n",
       "      <td>72</td>\n",
       "      <td>True</td>\n",
       "    </tr>\n",
       "    <tr>\n",
       "      <th>6</th>\n",
       "      <td>Newark</td>\n",
       "      <td>NJ</td>\n",
       "      <td>68</td>\n",
       "      <td>False</td>\n",
       "    </tr>\n",
       "    <tr>\n",
       "      <th>8</th>\n",
       "      <td>New Heaven</td>\n",
       "      <td>CT</td>\n",
       "      <td>58</td>\n",
       "      <td>False</td>\n",
       "    </tr>\n",
       "  </tbody>\n",
       "</table>\n",
       "</div>"
      ],
      "text/plain": [
       "         City State  Temperature  Capital\n",
       "0         NYC    NY           67    False\n",
       "1      Albany    NY           49     True\n",
       "2     Buffalo    NY           38    False\n",
       "3    Hartford    CT           63     True\n",
       "4  Bridgeport    CT           58    False\n",
       "5      Treton    NJ           72     True\n",
       "6      Newark    NJ           68    False\n",
       "8  New Heaven    CT           58    False"
      ]
     },
     "execution_count": 526,
     "metadata": {},
     "output_type": "execute_result"
    }
   ],
   "source": [
    "Temp['Capital'] = Temp['City'].isin(Capital['Capital'])\n",
    "Temp"
   ]
  },
  {
   "cell_type": "markdown",
   "metadata": {},
   "source": [
    "### Problem 5 [30 pts]\n",
    "\n",
    "- a. Load the Gross Domestic Product data for the 190 ranked countries in the file **GDP.csv**. Load **Country.csv** into a DataFrame. [6 pts]"
   ]
  },
  {
   "cell_type": "code",
   "execution_count": 104,
   "metadata": {},
   "outputs": [],
   "source": [
    "import pandas as pd\n",
    "import numpy as np\n",
    "gdp = pd.read_csv('GDP.csv',header = None,encoding='ISO-8859-1', skiprows=5, nrows = 190,usecols=[0,1,3,4],keep_default_na=False)\n",
    "gdp.columns = ['CountryCode', 'Ranking','Economy','millions of US dollars']\n",
    "#print(gdp)\n",
    "country=pd.read_csv('Country.csv',encoding='ISO-8859-1',keep_default_na=False)\n",
    "#print(country)\n",
    "#print(list(gdp.columns))\n",
    "#print(list(country.columns))"
   ]
  },
  {
   "cell_type": "markdown",
   "metadata": {},
   "source": [
    "- b. Match the data based on the country shortcode. How many of the IDs match? [6 pts]"
   ]
  },
  {
   "cell_type": "code",
   "execution_count": 105,
   "metadata": {},
   "outputs": [
    {
     "data": {
      "text/html": [
       "<div>\n",
       "<style scoped>\n",
       "    .dataframe tbody tr th:only-of-type {\n",
       "        vertical-align: middle;\n",
       "    }\n",
       "\n",
       "    .dataframe tbody tr th {\n",
       "        vertical-align: top;\n",
       "    }\n",
       "\n",
       "    .dataframe thead th {\n",
       "        text-align: right;\n",
       "    }\n",
       "</style>\n",
       "<table border=\"1\" class=\"dataframe\">\n",
       "  <thead>\n",
       "    <tr style=\"text-align: right;\">\n",
       "      <th></th>\n",
       "      <th>CountryCode</th>\n",
       "      <th>Ranking</th>\n",
       "      <th>Economy</th>\n",
       "      <th>millions of US dollars</th>\n",
       "      <th>Long Name</th>\n",
       "      <th>Income Group</th>\n",
       "      <th>Region</th>\n",
       "      <th>Lending category</th>\n",
       "      <th>Other groups</th>\n",
       "      <th>Currency Unit</th>\n",
       "      <th>...</th>\n",
       "      <th>Source of most recent Income and expenditure data</th>\n",
       "      <th>Vital registration complete</th>\n",
       "      <th>Latest agricultural census</th>\n",
       "      <th>Latest industrial data</th>\n",
       "      <th>Latest trade data</th>\n",
       "      <th>Latest water withdrawal data</th>\n",
       "      <th>2-alpha code</th>\n",
       "      <th>WB-2 code</th>\n",
       "      <th>Table Name</th>\n",
       "      <th>Short Name</th>\n",
       "    </tr>\n",
       "  </thead>\n",
       "  <tbody>\n",
       "    <tr>\n",
       "      <th>0</th>\n",
       "      <td>USA</td>\n",
       "      <td>1</td>\n",
       "      <td>United States</td>\n",
       "      <td>16,244,600</td>\n",
       "      <td>United States of America</td>\n",
       "      <td>High income: OECD</td>\n",
       "      <td>North America</td>\n",
       "      <td></td>\n",
       "      <td></td>\n",
       "      <td>U.S. dollar</td>\n",
       "      <td>...</td>\n",
       "      <td>LFS 2000</td>\n",
       "      <td>Yes</td>\n",
       "      <td>1997/2002</td>\n",
       "      <td>2004</td>\n",
       "      <td>2008</td>\n",
       "      <td>2000</td>\n",
       "      <td>US</td>\n",
       "      <td>US</td>\n",
       "      <td>United States</td>\n",
       "      <td>United States</td>\n",
       "    </tr>\n",
       "    <tr>\n",
       "      <th>1</th>\n",
       "      <td>CHN</td>\n",
       "      <td>2</td>\n",
       "      <td>China</td>\n",
       "      <td>8,227,103</td>\n",
       "      <td>People's Republic of China</td>\n",
       "      <td>Lower middle income</td>\n",
       "      <td>East Asia &amp; Pacific</td>\n",
       "      <td>IBRD</td>\n",
       "      <td></td>\n",
       "      <td>Chinese yuan</td>\n",
       "      <td>...</td>\n",
       "      <td>IHS, 2005</td>\n",
       "      <td></td>\n",
       "      <td>1997</td>\n",
       "      <td>2005</td>\n",
       "      <td>2008</td>\n",
       "      <td>2000</td>\n",
       "      <td>CN</td>\n",
       "      <td>CN</td>\n",
       "      <td>China</td>\n",
       "      <td>China</td>\n",
       "    </tr>\n",
       "    <tr>\n",
       "      <th>2</th>\n",
       "      <td>JPN</td>\n",
       "      <td>3</td>\n",
       "      <td>Japan</td>\n",
       "      <td>5,959,718</td>\n",
       "      <td>Japan</td>\n",
       "      <td>High income: OECD</td>\n",
       "      <td>East Asia &amp; Pacific</td>\n",
       "      <td></td>\n",
       "      <td></td>\n",
       "      <td>Japanese yen</td>\n",
       "      <td>...</td>\n",
       "      <td>IS, 1993</td>\n",
       "      <td>Yes</td>\n",
       "      <td>2000</td>\n",
       "      <td>2004</td>\n",
       "      <td>2008</td>\n",
       "      <td>2000</td>\n",
       "      <td>JP</td>\n",
       "      <td>JP</td>\n",
       "      <td>Japan</td>\n",
       "      <td>Japan</td>\n",
       "    </tr>\n",
       "    <tr>\n",
       "      <th>3</th>\n",
       "      <td>DEU</td>\n",
       "      <td>4</td>\n",
       "      <td>Germany</td>\n",
       "      <td>3,428,131</td>\n",
       "      <td>Federal Republic of Germany</td>\n",
       "      <td>High income: OECD</td>\n",
       "      <td>Europe &amp; Central Asia</td>\n",
       "      <td></td>\n",
       "      <td>Euro area</td>\n",
       "      <td>Euro</td>\n",
       "      <td>...</td>\n",
       "      <td>IHS, 2000</td>\n",
       "      <td>Yes</td>\n",
       "      <td>1999-2000</td>\n",
       "      <td>2004</td>\n",
       "      <td>2008</td>\n",
       "      <td>2000</td>\n",
       "      <td>DE</td>\n",
       "      <td>DE</td>\n",
       "      <td>Germany</td>\n",
       "      <td>Germany</td>\n",
       "    </tr>\n",
       "    <tr>\n",
       "      <th>4</th>\n",
       "      <td>FRA</td>\n",
       "      <td>5</td>\n",
       "      <td>France</td>\n",
       "      <td>2,612,878</td>\n",
       "      <td>French Republic</td>\n",
       "      <td>High income: OECD</td>\n",
       "      <td>Europe &amp; Central Asia</td>\n",
       "      <td></td>\n",
       "      <td>Euro area</td>\n",
       "      <td>Euro</td>\n",
       "      <td>...</td>\n",
       "      <td>ES/BS, 1994/95</td>\n",
       "      <td>Yes</td>\n",
       "      <td>1999-2000</td>\n",
       "      <td>2004</td>\n",
       "      <td>2008</td>\n",
       "      <td>2000</td>\n",
       "      <td>FR</td>\n",
       "      <td>FR</td>\n",
       "      <td>France</td>\n",
       "      <td>France</td>\n",
       "    </tr>\n",
       "    <tr>\n",
       "      <th>...</th>\n",
       "      <td>...</td>\n",
       "      <td>...</td>\n",
       "      <td>...</td>\n",
       "      <td>...</td>\n",
       "      <td>...</td>\n",
       "      <td>...</td>\n",
       "      <td>...</td>\n",
       "      <td>...</td>\n",
       "      <td>...</td>\n",
       "      <td>...</td>\n",
       "      <td>...</td>\n",
       "      <td>...</td>\n",
       "      <td>...</td>\n",
       "      <td>...</td>\n",
       "      <td>...</td>\n",
       "      <td>...</td>\n",
       "      <td>...</td>\n",
       "      <td>...</td>\n",
       "      <td>...</td>\n",
       "      <td>...</td>\n",
       "      <td>...</td>\n",
       "    </tr>\n",
       "    <tr>\n",
       "      <th>184</th>\n",
       "      <td>STP</td>\n",
       "      <td>186</td>\n",
       "      <td>São Tomé and Principe</td>\n",
       "      <td>263</td>\n",
       "      <td>Democratic Republic of São Tomé and Principe</td>\n",
       "      <td>Lower middle income</td>\n",
       "      <td>Sub-Saharan Africa</td>\n",
       "      <td>IDA</td>\n",
       "      <td>HIPC</td>\n",
       "      <td>São Tomé and Principe dobra</td>\n",
       "      <td>...</td>\n",
       "      <td>PS 2000-01</td>\n",
       "      <td></td>\n",
       "      <td></td>\n",
       "      <td></td>\n",
       "      <td>2008</td>\n",
       "      <td></td>\n",
       "      <td>ST</td>\n",
       "      <td>ST</td>\n",
       "      <td>São Tomé and Principe</td>\n",
       "      <td>São Tomé and Principe</td>\n",
       "    </tr>\n",
       "    <tr>\n",
       "      <th>185</th>\n",
       "      <td>PLW</td>\n",
       "      <td>187</td>\n",
       "      <td>Palau</td>\n",
       "      <td>228</td>\n",
       "      <td>Republic of Palau</td>\n",
       "      <td>Upper middle income</td>\n",
       "      <td>East Asia &amp; Pacific</td>\n",
       "      <td>IBRD</td>\n",
       "      <td></td>\n",
       "      <td>U.S. dollar</td>\n",
       "      <td>...</td>\n",
       "      <td></td>\n",
       "      <td>Yes</td>\n",
       "      <td></td>\n",
       "      <td></td>\n",
       "      <td></td>\n",
       "      <td></td>\n",
       "      <td>PW</td>\n",
       "      <td>PW</td>\n",
       "      <td>Palau</td>\n",
       "      <td>Palau</td>\n",
       "    </tr>\n",
       "    <tr>\n",
       "      <th>186</th>\n",
       "      <td>MHL</td>\n",
       "      <td>188</td>\n",
       "      <td>Marshall Islands</td>\n",
       "      <td>182</td>\n",
       "      <td>Republic of the Marshall Islands</td>\n",
       "      <td>Lower middle income</td>\n",
       "      <td>East Asia &amp; Pacific</td>\n",
       "      <td>IBRD</td>\n",
       "      <td></td>\n",
       "      <td>U.S. dollar</td>\n",
       "      <td>...</td>\n",
       "      <td></td>\n",
       "      <td></td>\n",
       "      <td></td>\n",
       "      <td></td>\n",
       "      <td></td>\n",
       "      <td></td>\n",
       "      <td>MH</td>\n",
       "      <td>MH</td>\n",
       "      <td>Marshall Islands</td>\n",
       "      <td>Marshall Islands</td>\n",
       "    </tr>\n",
       "    <tr>\n",
       "      <th>187</th>\n",
       "      <td>KIR</td>\n",
       "      <td>189</td>\n",
       "      <td>Kiribati</td>\n",
       "      <td>175</td>\n",
       "      <td>Republic of Kiribati</td>\n",
       "      <td>Lower middle income</td>\n",
       "      <td>East Asia &amp; Pacific</td>\n",
       "      <td>IDA</td>\n",
       "      <td></td>\n",
       "      <td>Australian dollar</td>\n",
       "      <td>...</td>\n",
       "      <td></td>\n",
       "      <td></td>\n",
       "      <td></td>\n",
       "      <td></td>\n",
       "      <td>2005</td>\n",
       "      <td></td>\n",
       "      <td>KI</td>\n",
       "      <td>KI</td>\n",
       "      <td>Kiribati</td>\n",
       "      <td>Kiribati</td>\n",
       "    </tr>\n",
       "    <tr>\n",
       "      <th>188</th>\n",
       "      <td>TUV</td>\n",
       "      <td>190</td>\n",
       "      <td>Tuvalu</td>\n",
       "      <td>40</td>\n",
       "      <td>Tuvalu</td>\n",
       "      <td>Lower middle income</td>\n",
       "      <td>East Asia &amp; Pacific</td>\n",
       "      <td></td>\n",
       "      <td></td>\n",
       "      <td>Australian dollar</td>\n",
       "      <td>...</td>\n",
       "      <td></td>\n",
       "      <td></td>\n",
       "      <td></td>\n",
       "      <td></td>\n",
       "      <td></td>\n",
       "      <td></td>\n",
       "      <td>TV</td>\n",
       "      <td>TV</td>\n",
       "      <td>Tuvalu</td>\n",
       "      <td>Tuvalu</td>\n",
       "    </tr>\n",
       "  </tbody>\n",
       "</table>\n",
       "<p>189 rows × 34 columns</p>\n",
       "</div>"
      ],
      "text/plain": [
       "    CountryCode  Ranking                Economy millions of US dollars  \\\n",
       "0           USA        1          United States            16,244,600    \n",
       "1           CHN        2                  China             8,227,103    \n",
       "2           JPN        3                  Japan             5,959,718    \n",
       "3           DEU        4                Germany             3,428,131    \n",
       "4           FRA        5                 France             2,612,878    \n",
       "..          ...      ...                    ...                    ...   \n",
       "184         STP      186  São Tomé and Principe                   263    \n",
       "185         PLW      187                  Palau                   228    \n",
       "186         MHL      188       Marshall Islands                   182    \n",
       "187         KIR      189               Kiribati                   175    \n",
       "188         TUV      190                 Tuvalu                    40    \n",
       "\n",
       "                                        Long Name         Income Group  \\\n",
       "0                        United States of America    High income: OECD   \n",
       "1                      People's Republic of China  Lower middle income   \n",
       "2                                           Japan    High income: OECD   \n",
       "3                     Federal Republic of Germany    High income: OECD   \n",
       "4                                 French Republic    High income: OECD   \n",
       "..                                            ...                  ...   \n",
       "184  Democratic Republic of São Tomé and Principe  Lower middle income   \n",
       "185                             Republic of Palau  Upper middle income   \n",
       "186              Republic of the Marshall Islands  Lower middle income   \n",
       "187                          Republic of Kiribati  Lower middle income   \n",
       "188                                        Tuvalu  Lower middle income   \n",
       "\n",
       "                    Region Lending category Other groups  \\\n",
       "0            North America                                 \n",
       "1      East Asia & Pacific             IBRD                \n",
       "2      East Asia & Pacific                                 \n",
       "3    Europe & Central Asia                     Euro area   \n",
       "4    Europe & Central Asia                     Euro area   \n",
       "..                     ...              ...          ...   \n",
       "184     Sub-Saharan Africa              IDA         HIPC   \n",
       "185    East Asia & Pacific             IBRD                \n",
       "186    East Asia & Pacific             IBRD                \n",
       "187    East Asia & Pacific              IDA                \n",
       "188    East Asia & Pacific                                 \n",
       "\n",
       "                   Currency Unit  ...  \\\n",
       "0                    U.S. dollar  ...   \n",
       "1                   Chinese yuan  ...   \n",
       "2                   Japanese yen  ...   \n",
       "3                           Euro  ...   \n",
       "4                           Euro  ...   \n",
       "..                           ...  ...   \n",
       "184  São Tomé and Principe dobra  ...   \n",
       "185                  U.S. dollar  ...   \n",
       "186                  U.S. dollar  ...   \n",
       "187            Australian dollar  ...   \n",
       "188            Australian dollar  ...   \n",
       "\n",
       "    Source of most recent Income and expenditure data  \\\n",
       "0                                            LFS 2000   \n",
       "1                                           IHS, 2005   \n",
       "2                                            IS, 1993   \n",
       "3                                           IHS, 2000   \n",
       "4                                      ES/BS, 1994/95   \n",
       "..                                                ...   \n",
       "184                                        PS 2000-01   \n",
       "185                                                     \n",
       "186                                                     \n",
       "187                                                     \n",
       "188                                                     \n",
       "\n",
       "    Vital registration complete Latest agricultural census  \\\n",
       "0                           Yes                  1997/2002   \n",
       "1                                                     1997   \n",
       "2                           Yes                       2000   \n",
       "3                           Yes                  1999-2000   \n",
       "4                           Yes                  1999-2000   \n",
       "..                          ...                        ...   \n",
       "184                                                          \n",
       "185                         Yes                              \n",
       "186                                                          \n",
       "187                                                          \n",
       "188                                                          \n",
       "\n",
       "    Latest industrial data Latest trade data Latest water withdrawal data  \\\n",
       "0                     2004              2008                         2000   \n",
       "1                     2005              2008                         2000   \n",
       "2                     2004              2008                         2000   \n",
       "3                     2004              2008                         2000   \n",
       "4                     2004              2008                         2000   \n",
       "..                     ...               ...                          ...   \n",
       "184                                     2008                                \n",
       "185                                                                         \n",
       "186                                                                         \n",
       "187                                     2005                                \n",
       "188                                                                         \n",
       "\n",
       "    2-alpha code WB-2 code             Table Name             Short Name  \n",
       "0             US        US          United States          United States  \n",
       "1             CN        CN                  China                  China  \n",
       "2             JP        JP                  Japan                  Japan  \n",
       "3             DE        DE                Germany                Germany  \n",
       "4             FR        FR                 France                 France  \n",
       "..           ...       ...                    ...                    ...  \n",
       "184           ST        ST  São Tomé and Principe  São Tomé and Principe  \n",
       "185           PW        PW                  Palau                  Palau  \n",
       "186           MH        MH       Marshall Islands       Marshall Islands  \n",
       "187           KI        KI               Kiribati               Kiribati  \n",
       "188           TV        TV                 Tuvalu                 Tuvalu  \n",
       "\n",
       "[189 rows x 34 columns]"
      ]
     },
     "execution_count": 105,
     "metadata": {},
     "output_type": "execute_result"
    }
   ],
   "source": [
    "data = pd.merge(gdp, country, on='CountryCode', how='inner')\n",
    "data"
   ]
  },
  {
   "cell_type": "code",
   "execution_count": 106,
   "metadata": {},
   "outputs": [
    {
     "name": "stdout",
     "output_type": "stream",
     "text": [
      "189\n"
     ]
    }
   ],
   "source": [
    "print(len(data))"
   ]
  },
  {
   "cell_type": "markdown",
   "metadata": {},
   "source": [
    "- c. Sort the data frame in descending order by GDP rank. What is the 13th country in the resulting data frame? (Note: GDP formats as 123,456,789.) [6 pts]"
   ]
  },
  {
   "cell_type": "code",
   "execution_count": 107,
   "metadata": {},
   "outputs": [
    {
     "data": {
      "text/html": [
       "<div>\n",
       "<style scoped>\n",
       "    .dataframe tbody tr th:only-of-type {\n",
       "        vertical-align: middle;\n",
       "    }\n",
       "\n",
       "    .dataframe tbody tr th {\n",
       "        vertical-align: top;\n",
       "    }\n",
       "\n",
       "    .dataframe thead th {\n",
       "        text-align: right;\n",
       "    }\n",
       "</style>\n",
       "<table border=\"1\" class=\"dataframe\">\n",
       "  <thead>\n",
       "    <tr style=\"text-align: right;\">\n",
       "      <th></th>\n",
       "      <th>CountryCode</th>\n",
       "      <th>Ranking</th>\n",
       "      <th>Economy</th>\n",
       "      <th>millions of US dollars</th>\n",
       "      <th>Long Name</th>\n",
       "      <th>Income Group</th>\n",
       "      <th>Region</th>\n",
       "      <th>Lending category</th>\n",
       "      <th>Other groups</th>\n",
       "      <th>Currency Unit</th>\n",
       "      <th>...</th>\n",
       "      <th>Source of most recent Income and expenditure data</th>\n",
       "      <th>Vital registration complete</th>\n",
       "      <th>Latest agricultural census</th>\n",
       "      <th>Latest industrial data</th>\n",
       "      <th>Latest trade data</th>\n",
       "      <th>Latest water withdrawal data</th>\n",
       "      <th>2-alpha code</th>\n",
       "      <th>WB-2 code</th>\n",
       "      <th>Table Name</th>\n",
       "      <th>Short Name</th>\n",
       "    </tr>\n",
       "  </thead>\n",
       "  <tbody>\n",
       "    <tr>\n",
       "      <th>12</th>\n",
       "      <td>ESP</td>\n",
       "      <td>13</td>\n",
       "      <td>Spain</td>\n",
       "      <td>1322965.0</td>\n",
       "      <td>Kingdom of Spain</td>\n",
       "      <td>High income: OECD</td>\n",
       "      <td>Europe &amp; Central Asia</td>\n",
       "      <td></td>\n",
       "      <td>Euro area</td>\n",
       "      <td>Euro</td>\n",
       "      <td>...</td>\n",
       "      <td>IHS, 2000</td>\n",
       "      <td>Yes</td>\n",
       "      <td>1999</td>\n",
       "      <td>2004</td>\n",
       "      <td>2008</td>\n",
       "      <td>2000</td>\n",
       "      <td>ES</td>\n",
       "      <td>ES</td>\n",
       "      <td>Spain</td>\n",
       "      <td>Spain</td>\n",
       "    </tr>\n",
       "  </tbody>\n",
       "</table>\n",
       "<p>1 rows × 34 columns</p>\n",
       "</div>"
      ],
      "text/plain": [
       "   CountryCode  Ranking Economy  millions of US dollars         Long Name  \\\n",
       "12         ESP       13   Spain               1322965.0  Kingdom of Spain   \n",
       "\n",
       "         Income Group                 Region Lending category Other groups  \\\n",
       "12  High income: OECD  Europe & Central Asia                     Euro area   \n",
       "\n",
       "   Currency Unit  ... Source of most recent Income and expenditure data  \\\n",
       "12          Euro  ...                                         IHS, 2000   \n",
       "\n",
       "   Vital registration complete Latest agricultural census  \\\n",
       "12                         Yes                       1999   \n",
       "\n",
       "   Latest industrial data Latest trade data Latest water withdrawal data  \\\n",
       "12                   2004              2008                         2000   \n",
       "\n",
       "   2-alpha code WB-2 code Table Name Short Name  \n",
       "12           ES        ES      Spain      Spain  \n",
       "\n",
       "[1 rows x 34 columns]"
      ]
     },
     "execution_count": 107,
     "metadata": {},
     "output_type": "execute_result"
    }
   ],
   "source": [
    "data['millions of US dollars'] = data['millions of US dollars'].str.replace(',', '').astype(float)\n",
    "newdata = data.sort_values(by='millions of US dollars',ascending=False)\n",
    "#newdata.head(13)\n",
    "newdata.iloc[[12]]"
   ]
  },
  {
   "cell_type": "markdown",
   "metadata": {},
   "source": [
    "- d. What is the average GDP for the \"High income: OECD\" and \"High income: nonOECD\" group? [6 pts]"
   ]
  },
  {
   "cell_type": "code",
   "execution_count": 109,
   "metadata": {},
   "outputs": [
    {
     "data": {
      "text/plain": [
       "Income Group\n",
       "High income: OECD       1.483917e+06\n",
       "High income: nonOECD    1.043498e+05\n",
       "Low income              1.441078e+04\n",
       "Lower middle income     2.566635e+05\n",
       "Upper middle income     2.318478e+05\n",
       "Name: millions of US dollars, dtype: float64"
      ]
     },
     "execution_count": 109,
     "metadata": {},
     "output_type": "execute_result"
    }
   ],
   "source": [
    "#data['millions of US dollars'] = data['millions of US dollars'].str.replace(',', '').apply(pd.to_numeric)\n",
    "#data['millions of US dollars'] = data['millions of US dollars'].str.replace(',', '').astype(int)\n",
    "#data.info()\n",
    "data.groupby('Income Group')['millions of US dollars'].agg(np.mean)"
   ]
  },
  {
   "cell_type": "markdown",
   "metadata": {},
   "source": [
    "- e. What is the average GDP for different income groups and regions? [6 pts]"
   ]
  },
  {
   "cell_type": "code",
   "execution_count": 110,
   "metadata": {},
   "outputs": [
    {
     "data": {
      "text/plain": [
       "Income Group          Region                    \n",
       "High income: OECD     East Asia & Pacific           2.197268e+06\n",
       "                      Europe & Central Asia         7.567044e+05\n",
       "                      Middle East & North Africa    2.582170e+05\n",
       "                      North America                 9.033012e+06\n",
       "High income: nonOECD  East Asia & Pacific           1.496240e+05\n",
       "                      Europe & Central Asia         2.776660e+04\n",
       "                      Latin America & Caribbean     2.795480e+04\n",
       "                      Middle East & North Africa    2.142531e+05\n",
       "                      North America                 5.474000e+03\n",
       "                      Sub-Saharan Africa            1.769700e+04\n",
       "Low income            East Asia & Pacific           8.154667e+03\n",
       "                      Europe & Central Asia         6.723500e+03\n",
       "                      Latin America & Caribbean     7.843000e+03\n",
       "                      South Asia                    5.193833e+04\n",
       "                      Sub-Saharan Africa            1.184393e+04\n",
       "Lower middle income   East Asia & Pacific           6.604665e+05\n",
       "                      Europe & Central Asia         4.314029e+04\n",
       "                      Latin America & Caribbean     2.710667e+04\n",
       "                      Middle East & North Africa    1.078699e+05\n",
       "                      South Asia                    4.260556e+05\n",
       "                      Sub-Saharan Africa            4.741100e+04\n",
       "Upper middle income   East Asia & Pacific           1.030563e+05\n",
       "                      Europe & Central Asia         2.696185e+05\n",
       "                      Latin America & Caribbean     2.707134e+05\n",
       "                      Middle East & North Africa    2.542647e+05\n",
       "                      Sub-Saharan Africa            7.364683e+04\n",
       "Name: millions of US dollars, dtype: float64"
      ]
     },
     "execution_count": 110,
     "metadata": {},
     "output_type": "execute_result"
    }
   ],
   "source": [
    "data.groupby([data['Income Group'],data['Region']])['millions of US dollars'].agg(np.mean)"
   ]
  },
  {
   "cell_type": "code",
   "execution_count": null,
   "metadata": {},
   "outputs": [],
   "source": []
  },
  {
   "cell_type": "code",
   "execution_count": null,
   "metadata": {},
   "outputs": [],
   "source": []
  },
  {
   "cell_type": "code",
   "execution_count": null,
   "metadata": {},
   "outputs": [],
   "source": []
  }
 ],
 "metadata": {
  "kernelspec": {
   "display_name": "Python 3",
   "language": "python",
   "name": "python3"
  },
  "language_info": {
   "codemirror_mode": {
    "name": "ipython",
    "version": 3
   },
   "file_extension": ".py",
   "mimetype": "text/x-python",
   "name": "python",
   "nbconvert_exporter": "python",
   "pygments_lexer": "ipython3",
   "version": "3.8.5"
  }
 },
 "nbformat": 4,
 "nbformat_minor": 4
}
